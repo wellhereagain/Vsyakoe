{
 "cells": [
  {
   "cell_type": "markdown",
   "id": "9b4e3cb2",
   "metadata": {
    "scrolled": false
   },
   "source": [
    "# **Всем привет!**\n",
    "\n",
    "Это файл решения, мне показалось, что в формате блокнота его будет удобно смотреть. \n",
    "\n",
    "Файл с конечным ответом залит в папку на гите. \n",
    "\n"
   ]
  },
  {
   "cell_type": "markdown",
   "id": "b3475e6f",
   "metadata": {},
   "source": [
    "### Собственно, перейдем к решению:)\n",
    "\n",
    "Предварительно я разбила тестовый файл на две эксель-таблички: с данными из реестра и отчетом, чтобы было легче импортировать. \n",
    "\n",
    "Импортируем таблицу с данными из реестра и приводим ее в человеческий вид"
   ]
  },
  {
   "cell_type": "code",
   "execution_count": 57,
   "id": "9785da52",
   "metadata": {},
   "outputs": [
    {
     "data": {
      "text/html": [
       "<div>\n",
       "<style scoped>\n",
       "    .dataframe tbody tr th:only-of-type {\n",
       "        vertical-align: middle;\n",
       "    }\n",
       "\n",
       "    .dataframe tbody tr th {\n",
       "        vertical-align: top;\n",
       "    }\n",
       "\n",
       "    .dataframe thead th {\n",
       "        text-align: right;\n",
       "    }\n",
       "</style>\n",
       "<table border=\"1\" class=\"dataframe\">\n",
       "  <thead>\n",
       "    <tr style=\"text-align: right;\">\n",
       "      <th></th>\n",
       "      <th>id</th>\n",
       "      <th>sum</th>\n",
       "      <th>day</th>\n",
       "      <th>month</th>\n",
       "      <th>year</th>\n",
       "    </tr>\n",
       "  </thead>\n",
       "  <tbody>\n",
       "    <tr>\n",
       "      <th>0</th>\n",
       "      <td>21</td>\n",
       "      <td>3468.72</td>\n",
       "      <td>7</td>\n",
       "      <td>1</td>\n",
       "      <td>2020</td>\n",
       "    </tr>\n",
       "    <tr>\n",
       "      <th>1</th>\n",
       "      <td>22</td>\n",
       "      <td>9264.84</td>\n",
       "      <td>2</td>\n",
       "      <td>1</td>\n",
       "      <td>2020</td>\n",
       "    </tr>\n",
       "    <tr>\n",
       "      <th>2</th>\n",
       "      <td>23</td>\n",
       "      <td>9593.12</td>\n",
       "      <td>31</td>\n",
       "      <td>1</td>\n",
       "      <td>2020</td>\n",
       "    </tr>\n",
       "    <tr>\n",
       "      <th>3</th>\n",
       "      <td>24</td>\n",
       "      <td>7798.25</td>\n",
       "      <td>30</td>\n",
       "      <td>1</td>\n",
       "      <td>2020</td>\n",
       "    </tr>\n",
       "    <tr>\n",
       "      <th>4</th>\n",
       "      <td>25</td>\n",
       "      <td>4425.30</td>\n",
       "      <td>24</td>\n",
       "      <td>1</td>\n",
       "      <td>2020</td>\n",
       "    </tr>\n",
       "  </tbody>\n",
       "</table>\n",
       "</div>"
      ],
      "text/plain": [
       "   id      sum  day  month  year\n",
       "0  21  3468.72    7      1  2020\n",
       "1  22  9264.84    2      1  2020\n",
       "2  23  9593.12   31      1  2020\n",
       "3  24  7798.25   30      1  2020\n",
       "4  25  4425.30   24      1  2020"
      ]
     },
     "execution_count": 57,
     "metadata": {},
     "output_type": "execute_result"
    }
   ],
   "source": [
    "import pandas as pd\n",
    "import numpy as np\n",
    "\n",
    "data_row = pd.read_excel('Тестовое задание для стажировки по аналитике_ Датасет.xlsx', header=1)\n",
    "data = pd.DataFrame(data_row['Реестр'].str.replace(r'от ', ''))\n",
    "\n",
    "data[['todrop','id', 'todrop2', 'sum', 'date']] = data.pop('Реестр').str.split(expand=True)\n",
    "data[['day','month', 'year']] = data.pop('date').str.split(pat = '.',expand=True)\n",
    "data = data.drop(data.columns[[0, 2]], axis=1)\n",
    "data[['id', 'sum', 'month', 'day']] = data[['id', 'sum', 'month', 'day']].apply(pd.to_numeric)\n",
    "data[:5]"
   ]
  },
  {
   "cell_type": "markdown",
   "id": "d9f03b9f",
   "metadata": {},
   "source": [
    "Посмотрим, что там вообще происходит с месяцами - может быть, сумма хотя бы по одному месяцу совпадает"
   ]
  },
  {
   "cell_type": "code",
   "execution_count": 58,
   "id": "d5537699",
   "metadata": {
    "scrolled": true
   },
   "outputs": [
    {
     "data": {
      "text/html": [
       "<div>\n",
       "<style scoped>\n",
       "    .dataframe tbody tr th:only-of-type {\n",
       "        vertical-align: middle;\n",
       "    }\n",
       "\n",
       "    .dataframe tbody tr th {\n",
       "        vertical-align: top;\n",
       "    }\n",
       "\n",
       "    .dataframe thead th {\n",
       "        text-align: right;\n",
       "    }\n",
       "</style>\n",
       "<table border=\"1\" class=\"dataframe\">\n",
       "  <thead>\n",
       "    <tr style=\"text-align: right;\">\n",
       "      <th></th>\n",
       "      <th>sum</th>\n",
       "    </tr>\n",
       "    <tr>\n",
       "      <th>month</th>\n",
       "      <th></th>\n",
       "    </tr>\n",
       "  </thead>\n",
       "  <tbody>\n",
       "    <tr>\n",
       "      <th>1</th>\n",
       "      <td>345374.36</td>\n",
       "    </tr>\n",
       "    <tr>\n",
       "      <th>2</th>\n",
       "      <td>498233.18</td>\n",
       "    </tr>\n",
       "    <tr>\n",
       "      <th>3</th>\n",
       "      <td>544735.84</td>\n",
       "    </tr>\n",
       "    <tr>\n",
       "      <th>4</th>\n",
       "      <td>324724.69</td>\n",
       "    </tr>\n",
       "    <tr>\n",
       "      <th>5</th>\n",
       "      <td>508730.49</td>\n",
       "    </tr>\n",
       "    <tr>\n",
       "      <th>6</th>\n",
       "      <td>458221.06</td>\n",
       "    </tr>\n",
       "    <tr>\n",
       "      <th>7</th>\n",
       "      <td>75447.74</td>\n",
       "    </tr>\n",
       "    <tr>\n",
       "      <th>8</th>\n",
       "      <td>88548.74</td>\n",
       "    </tr>\n",
       "    <tr>\n",
       "      <th>9</th>\n",
       "      <td>100853.88</td>\n",
       "    </tr>\n",
       "    <tr>\n",
       "      <th>10</th>\n",
       "      <td>64545.64</td>\n",
       "    </tr>\n",
       "    <tr>\n",
       "      <th>11</th>\n",
       "      <td>93895.54</td>\n",
       "    </tr>\n",
       "    <tr>\n",
       "      <th>12</th>\n",
       "      <td>41921.60</td>\n",
       "    </tr>\n",
       "    <tr>\n",
       "      <th>14</th>\n",
       "      <td>18386.76</td>\n",
       "    </tr>\n",
       "    <tr>\n",
       "      <th>15</th>\n",
       "      <td>151.35</td>\n",
       "    </tr>\n",
       "    <tr>\n",
       "      <th>16</th>\n",
       "      <td>2970.61</td>\n",
       "    </tr>\n",
       "    <tr>\n",
       "      <th>17</th>\n",
       "      <td>12914.14</td>\n",
       "    </tr>\n",
       "    <tr>\n",
       "      <th>18</th>\n",
       "      <td>9303.26</td>\n",
       "    </tr>\n",
       "    <tr>\n",
       "      <th>19</th>\n",
       "      <td>17425.50</td>\n",
       "    </tr>\n",
       "    <tr>\n",
       "      <th>20</th>\n",
       "      <td>3532.73</td>\n",
       "    </tr>\n",
       "    <tr>\n",
       "      <th>21</th>\n",
       "      <td>25091.98</td>\n",
       "    </tr>\n",
       "    <tr>\n",
       "      <th>22</th>\n",
       "      <td>9678.63</td>\n",
       "    </tr>\n",
       "    <tr>\n",
       "      <th>23</th>\n",
       "      <td>3822.93</td>\n",
       "    </tr>\n",
       "    <tr>\n",
       "      <th>24</th>\n",
       "      <td>17155.58</td>\n",
       "    </tr>\n",
       "    <tr>\n",
       "      <th>25</th>\n",
       "      <td>13087.94</td>\n",
       "    </tr>\n",
       "    <tr>\n",
       "      <th>26</th>\n",
       "      <td>4901.50</td>\n",
       "    </tr>\n",
       "    <tr>\n",
       "      <th>27</th>\n",
       "      <td>32256.31</td>\n",
       "    </tr>\n",
       "    <tr>\n",
       "      <th>29</th>\n",
       "      <td>17591.97</td>\n",
       "    </tr>\n",
       "    <tr>\n",
       "      <th>30</th>\n",
       "      <td>20034.41</td>\n",
       "    </tr>\n",
       "  </tbody>\n",
       "</table>\n",
       "</div>"
      ],
      "text/plain": [
       "             sum\n",
       "month           \n",
       "1      345374.36\n",
       "2      498233.18\n",
       "3      544735.84\n",
       "4      324724.69\n",
       "5      508730.49\n",
       "6      458221.06\n",
       "7       75447.74\n",
       "8       88548.74\n",
       "9      100853.88\n",
       "10      64545.64\n",
       "11      93895.54\n",
       "12      41921.60\n",
       "14      18386.76\n",
       "15        151.35\n",
       "16       2970.61\n",
       "17      12914.14\n",
       "18       9303.26\n",
       "19      17425.50\n",
       "20       3532.73\n",
       "21      25091.98\n",
       "22       9678.63\n",
       "23       3822.93\n",
       "24      17155.58\n",
       "25      13087.94\n",
       "26       4901.50\n",
       "27      32256.31\n",
       "29      17591.97\n",
       "30      20034.41"
      ]
     },
     "execution_count": 58,
     "metadata": {},
     "output_type": "execute_result"
    }
   ],
   "source": [
    "data.groupby('month').sum()[['sum']]"
   ]
  },
  {
   "cell_type": "markdown",
   "id": "508f51ec",
   "metadata": {},
   "source": [
    "Кажется, все очень плохо: месяцев сильно больше 6, есть несуществующие месяцы, суммы по месяцам нигде не совпадают.\n",
    "\n",
    "Думаем дальше."
   ]
  },
  {
   "cell_type": "code",
   "execution_count": 59,
   "id": "e200aaa2",
   "metadata": {},
   "outputs": [
    {
     "data": {
      "text/html": [
       "<div>\n",
       "<style scoped>\n",
       "    .dataframe tbody tr th:only-of-type {\n",
       "        vertical-align: middle;\n",
       "    }\n",
       "\n",
       "    .dataframe tbody tr th {\n",
       "        vertical-align: top;\n",
       "    }\n",
       "\n",
       "    .dataframe thead th {\n",
       "        text-align: right;\n",
       "    }\n",
       "</style>\n",
       "<table border=\"1\" class=\"dataframe\">\n",
       "  <thead>\n",
       "    <tr style=\"text-align: right;\">\n",
       "      <th></th>\n",
       "      <th>id</th>\n",
       "      <th>sum</th>\n",
       "      <th>day</th>\n",
       "      <th>month</th>\n",
       "      <th>year</th>\n",
       "    </tr>\n",
       "  </thead>\n",
       "  <tbody>\n",
       "    <tr>\n",
       "      <th>0</th>\n",
       "      <td>21</td>\n",
       "      <td>3468.72</td>\n",
       "      <td>7</td>\n",
       "      <td>1</td>\n",
       "      <td>2020</td>\n",
       "    </tr>\n",
       "    <tr>\n",
       "      <th>1</th>\n",
       "      <td>22</td>\n",
       "      <td>9264.84</td>\n",
       "      <td>2</td>\n",
       "      <td>1</td>\n",
       "      <td>2020</td>\n",
       "    </tr>\n",
       "    <tr>\n",
       "      <th>2</th>\n",
       "      <td>23</td>\n",
       "      <td>9593.12</td>\n",
       "      <td>31</td>\n",
       "      <td>1</td>\n",
       "      <td>2020</td>\n",
       "    </tr>\n",
       "    <tr>\n",
       "      <th>3</th>\n",
       "      <td>24</td>\n",
       "      <td>7798.25</td>\n",
       "      <td>30</td>\n",
       "      <td>1</td>\n",
       "      <td>2020</td>\n",
       "    </tr>\n",
       "    <tr>\n",
       "      <th>4</th>\n",
       "      <td>25</td>\n",
       "      <td>4425.30</td>\n",
       "      <td>24</td>\n",
       "      <td>1</td>\n",
       "      <td>2020</td>\n",
       "    </tr>\n",
       "    <tr>\n",
       "      <th>...</th>\n",
       "      <td>...</td>\n",
       "      <td>...</td>\n",
       "      <td>...</td>\n",
       "      <td>...</td>\n",
       "      <td>...</td>\n",
       "    </tr>\n",
       "    <tr>\n",
       "      <th>655</th>\n",
       "      <td>606</td>\n",
       "      <td>6548.01</td>\n",
       "      <td>6</td>\n",
       "      <td>19</td>\n",
       "      <td>2020</td>\n",
       "    </tr>\n",
       "    <tr>\n",
       "      <th>656</th>\n",
       "      <td>607</td>\n",
       "      <td>6597.90</td>\n",
       "      <td>3</td>\n",
       "      <td>2</td>\n",
       "      <td>2020</td>\n",
       "    </tr>\n",
       "    <tr>\n",
       "      <th>657</th>\n",
       "      <td>608</td>\n",
       "      <td>2526.00</td>\n",
       "      <td>8</td>\n",
       "      <td>6</td>\n",
       "      <td>2020</td>\n",
       "    </tr>\n",
       "    <tr>\n",
       "      <th>658</th>\n",
       "      <td>609</td>\n",
       "      <td>8097.32</td>\n",
       "      <td>13</td>\n",
       "      <td>6</td>\n",
       "      <td>2020</td>\n",
       "    </tr>\n",
       "    <tr>\n",
       "      <th>659</th>\n",
       "      <td>610</td>\n",
       "      <td>5362.31</td>\n",
       "      <td>24</td>\n",
       "      <td>6</td>\n",
       "      <td>2020</td>\n",
       "    </tr>\n",
       "  </tbody>\n",
       "</table>\n",
       "<p>660 rows × 5 columns</p>\n",
       "</div>"
      ],
      "text/plain": [
       "      id      sum  day  month  year\n",
       "0     21  3468.72    7      1  2020\n",
       "1     22  9264.84    2      1  2020\n",
       "2     23  9593.12   31      1  2020\n",
       "3     24  7798.25   30      1  2020\n",
       "4     25  4425.30   24      1  2020\n",
       "..   ...      ...  ...    ...   ...\n",
       "655  606  6548.01    6     19  2020\n",
       "656  607  6597.90    3      2  2020\n",
       "657  608  2526.00    8      6  2020\n",
       "658  609  8097.32   13      6  2020\n",
       "659  610  5362.31   24      6  2020\n",
       "\n",
       "[660 rows x 5 columns]"
      ]
     },
     "execution_count": 59,
     "metadata": {},
     "output_type": "execute_result"
    }
   ],
   "source": [
    "data"
   ]
  },
  {
   "cell_type": "markdown",
   "id": "7e908f45",
   "metadata": {},
   "source": [
    "Кажется, что-то не так с id - похоже, они идут в порядке возрастания, но последний номер id меньше, чем последний индекс таблицы.\n",
    "\n",
    "Что происходит с порядком id - наши догадки:\n",
    "1) Возрастающий порядок с шагом 1- не правило для id и они распределены по логике, не связанной с месяцами\n",
    "\n",
    "2) Возрастающий порядок с шагом 1 есть, но ряд id дублируются из-за ошибок\n",
    "\n",
    "3) Возрастающий порядок с шагом 1 сохраняется внутри месяца, с каждым новым месяцем отсчет начинается с выпадающего из последовательности числа\n",
    "\n",
    "Или произошло что-то другое, но сначала проверим эти догадки"
   ]
  },
  {
   "cell_type": "markdown",
   "id": "82cfd082",
   "metadata": {},
   "source": [
    "Посмотрим, верно ли одно из этих предположений с помощью диаграммы"
   ]
  },
  {
   "cell_type": "code",
   "execution_count": 115,
   "id": "c3f0cf7e",
   "metadata": {
    "scrolled": true
   },
   "outputs": [
    {
     "data": {
      "text/plain": [
       "<function matplotlib.pyplot.show(close=None, block=None)>"
      ]
     },
     "execution_count": 115,
     "metadata": {},
     "output_type": "execute_result"
    },
    {
     "data": {
      "image/png": "[encoded data removed]",
      "text/plain": [
       "<Figure size 432x288 with 1 Axes>"
      ]
     },
     "metadata": {
      "needs_background": "light"
     },
     "output_type": "display_data"
    }
   ],
   "source": [
    "import matplotlib.pyplot as plt\n",
    "\n",
    "fig, ax = plt.subplots()\n",
    "plt.plot(data['id'])\n",
    "\n",
    "ax.set_xlabel('номер строки в отчете')\n",
    "ax.set_ylabel('id')\n",
    "\n",
    "plt.show"
   ]
  },
  {
   "cell_type": "markdown",
   "id": "af559ca8",
   "metadata": {},
   "source": [
    "Кажется, верным оказалось предположение 3)\n",
    "\n",
    "Мы видим, что у графика есть 5 скачков, которые могут совпадать с переходом от одного месяца к другому (ведь месяцев в отчете 6). \n",
    "\n",
    "Проверим это:"
   ]
  },
  {
   "cell_type": "code",
   "execution_count": 61,
   "id": "be9b93ba",
   "metadata": {
    "scrolled": true
   },
   "outputs": [
    {
     "name": "stderr",
     "output_type": "stream",
     "text": [
      "<ipython-input-61-c80655d65526>:6: SettingWithCopyWarning: \n",
      "A value is trying to be set on a copy of a slice from a DataFrame\n",
      "\n",
      "See the caveats in the documentation: https://pandas.pydata.org/pandas-docs/stable/user_guide/indexing.html#returning-a-view-versus-a-copy\n",
      "  data['month'][k:i+1] = j\n",
      "<ipython-input-61-c80655d65526>:10: SettingWithCopyWarning: \n",
      "A value is trying to be set on a copy of a slice from a DataFrame\n",
      "\n",
      "See the caveats in the documentation: https://pandas.pydata.org/pandas-docs/stable/user_guide/indexing.html#returning-a-view-versus-a-copy\n",
      "  data['month'][k:len(data)+1] = 6\n"
     ]
    }
   ],
   "source": [
    "# Заменяем месяцы на верные по нашему предположению\n",
    "j = 1\n",
    "k = 0\n",
    "for i in range(len(data)-1):\n",
    "    if data['id'][i + 1] < data['id'][i]:\n",
    "        data['month'][k:i+1] = j\n",
    "        j += 1\n",
    "        k = i + 1\n",
    "\n",
    "data['month'][k:len(data)+1] = 6\n",
    "        \n",
    "    "
   ]
  },
  {
   "cell_type": "markdown",
   "id": "1e0ef9c6",
   "metadata": {},
   "source": [
    "Проверим, совпадает ли это с отчетом из задания."
   ]
  },
  {
   "cell_type": "code",
   "execution_count": 67,
   "id": "3a0efc37",
   "metadata": {},
   "outputs": [],
   "source": [
    "#строим свой отчет\n",
    "data_report = data.groupby('month').sum()[['sum']]"
   ]
  },
  {
   "cell_type": "code",
   "execution_count": 63,
   "id": "c90afb10",
   "metadata": {},
   "outputs": [],
   "source": [
    "#импортируем отчет из задания\n",
    "report = pd.read_excel('otchet.xlsx', header=0)\n",
    "report.loc[report['Месяц'] == 'январь', 'Месяц'] = 1\n",
    "report.loc[report['Месяц'] == 'февраль', 'Месяц'] = 2\n",
    "report.loc[report['Месяц'] == 'март', 'Месяц'] = 3\n",
    "report.loc[report['Месяц'] == 'апрель', 'Месяц'] = 4\n",
    "report.loc[report['Месяц'] == 'май', 'Месяц'] = 5\n",
    "report.loc[report['Месяц'] == 'июнь', 'Месяц'] = 6"
   ]
  },
  {
   "cell_type": "code",
   "execution_count": 112,
   "id": "2ca61928",
   "metadata": {},
   "outputs": [
    {
     "name": "stdout",
     "output_type": "stream",
     "text": [
      "Вау, все и правда совпало. Осталось только выгрузить поправленный отчет в эксель и скинуть в отдел Реестров.\n"
     ]
    },
    {
     "data": {
      "text/html": [
       "<div>\n",
       "<style scoped>\n",
       "    .dataframe tbody tr th:only-of-type {\n",
       "        vertical-align: middle;\n",
       "    }\n",
       "\n",
       "    .dataframe tbody tr th {\n",
       "        vertical-align: top;\n",
       "    }\n",
       "\n",
       "    .dataframe thead th {\n",
       "        text-align: right;\n",
       "    }\n",
       "</style>\n",
       "<table border=\"1\" class=\"dataframe\">\n",
       "  <thead>\n",
       "    <tr style=\"text-align: right;\">\n",
       "      <th></th>\n",
       "      <th>Месяц</th>\n",
       "      <th>Сумма</th>\n",
       "      <th>sum</th>\n",
       "    </tr>\n",
       "  </thead>\n",
       "  <tbody>\n",
       "    <tr>\n",
       "      <th>0</th>\n",
       "      <td>1</td>\n",
       "      <td>485487.84</td>\n",
       "      <td>485487.84</td>\n",
       "    </tr>\n",
       "    <tr>\n",
       "      <th>1</th>\n",
       "      <td>2</td>\n",
       "      <td>570192.91</td>\n",
       "      <td>570192.91</td>\n",
       "    </tr>\n",
       "    <tr>\n",
       "      <th>2</th>\n",
       "      <td>3</td>\n",
       "      <td>698723.40</td>\n",
       "      <td>698723.40</td>\n",
       "    </tr>\n",
       "    <tr>\n",
       "      <th>3</th>\n",
       "      <td>4</td>\n",
       "      <td>444834.87</td>\n",
       "      <td>444834.87</td>\n",
       "    </tr>\n",
       "    <tr>\n",
       "      <th>4</th>\n",
       "      <td>5</td>\n",
       "      <td>574488.89</td>\n",
       "      <td>574488.89</td>\n",
       "    </tr>\n",
       "    <tr>\n",
       "      <th>5</th>\n",
       "      <td>6</td>\n",
       "      <td>579810.45</td>\n",
       "      <td>579810.45</td>\n",
       "    </tr>\n",
       "  </tbody>\n",
       "</table>\n",
       "</div>"
      ],
      "text/plain": [
       "  Месяц      Сумма        sum\n",
       "0     1  485487.84  485487.84\n",
       "1     2  570192.91  570192.91\n",
       "2     3  698723.40  698723.40\n",
       "3     4  444834.87  444834.87\n",
       "4     5  574488.89  574488.89\n",
       "5     6  579810.45  579810.45"
      ]
     },
     "execution_count": 112,
     "metadata": {},
     "output_type": "execute_result"
    }
   ],
   "source": [
    "result = pd.merge(report, data_report, how=\"inner\",left_on='Месяц',right_on='month', left_index=False,right_index=False)\n",
    "\n",
    "def compare(x):\n",
    "    assert x['sum'].all() == x['Сумма'].all(), 'Есть ошибки, наш подход неверен'\n",
    "    return print('Вау, все и правда совпало. Осталось только выгрузить поправленный отчет в эксель и скинуть в отдел Реестров.')\n",
    "\n",
    "compare(result)\n",
    "result"
   ]
  },
  {
   "cell_type": "code",
   "execution_count": 116,
   "id": "21a4a878",
   "metadata": {
    "scrolled": false
   },
   "outputs": [],
   "source": [
    "data.to_csv('Ответ_Масленникова Светлана.csv')"
   ]
  },
  {
   "cell_type": "markdown",
   "id": "c395598d",
   "metadata": {},
   "source": [
    "### Вот, вроде бы, и все решение :)"
   ]
  }
 ],
 "metadata": {
  "kernelspec": {
   "display_name": "Python 3",
   "language": "python",
   "name": "python3"
  },
  "language_info": {
   "codemirror_mode": {
    "name": "ipython",
    "version": 3
   },
   "file_extension": ".py",
   "mimetype": "text/x-python",
   "name": "python",
   "nbconvert_exporter": "python",
   "pygments_lexer": "ipython3",
   "version": "3.8.8"
  }
 },
 "nbformat": 4,
 "nbformat_minor": 5
}
